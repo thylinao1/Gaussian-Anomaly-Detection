{
 "cells": [
  {
   "cell_type": "markdown",
   "id": "aa220ad2",
   "metadata": {},
   "source": [
    "Imports libraries and configures the environment."
   ]
  },
  {
   "cell_type": "code",
   "execution_count": null,
   "id": "0db79450",
   "metadata": {},
   "outputs": [],
   "source": [
    "import numpy as np\n",
    "import matplotlib.pyplot as plt\n",
    "from utils import *\n",
    "\n",
    "%matplotlib inline"
   ]
  },
  {
   "cell_type": "markdown",
   "id": "4ba2a252",
   "metadata": {},
   "source": [
    "Loads dataset for anomaly detection."
   ]
  },
  {
   "cell_type": "code",
   "execution_count": null,
   "id": "668683dd",
   "metadata": {},
   "outputs": [],
   "source": [
    "# Load the dataset\n",
    "X_train, X_val, y_val = load_data()"
   ]
  },
  {
   "cell_type": "code",
   "execution_count": null,
   "id": "892bc209",
   "metadata": {},
   "outputs": [],
   "source": [
    "# Display the first five elements of X_train"
   ]
  },
  {
   "cell_type": "markdown",
   "id": "2d800474",
   "metadata": {},
   "source": [
    "Visualizes the data distribution, density contours, and detected anomalies."
   ]
  },
  {
   "cell_type": "code",
   "execution_count": null,
   "id": "2ef9cf71",
   "metadata": {},
   "outputs": [],
   "source": [
    "# Create a scatter plot of the data. To change the markers to blue \"x\",\n",
    "plt.scatter(X_train[:, 0], X_train[:, 1], marker='x', c='b') \n",
    "\n",
    "# Set the title\n",
    "plt.title(\"The first dataset\")\n",
    "# Set the y-axis label\n",
    "plt.ylabel('Throughput (mb/s)')\n",
    "# Set the x-axis label\n",
    "plt.xlabel('Latency (ms)')\n",
    "# Set axis range\n",
    "plt.axis([0, 30, 0, 30])\n",
    "plt.show()"
   ]
  },
  {
   "cell_type": "markdown",
   "id": "4124c47a",
   "metadata": {},
   "source": [
    "Estimates Gaussian parameters (mean and variance) for each feature."
   ]
  },
  {
   "cell_type": "code",
   "execution_count": null,
   "id": "84b27463",
   "metadata": {},
   "outputs": [],
   "source": [
    "# estimate_gaussian\n",
    "\n",
    "def estimate_gaussian(X): \n",
    "    \"\"\"\n",
    "    Calculates mean and variance of all features \n",
    "    in the dataset\n",
    "    \n",
    "    Args:\n",
    "        X (ndarray): (m, n) Data matrix\n",
    "    \n",
    "    Returns:\n",
    "        mu (ndarray): (n,) Mean of all features\n",
    "        var (ndarray): (n,) Variance of all features\n",
    "    \"\"\"\n",
    "\n",
    "    m, n = X.shape\n",
    "   \n",
    "    mu = 1 / m * np.sum(X, axis = 0)\n",
    "    var = 1/m * np.sum((X - mu)**2, axis = 0)\n",
    "        \n",
    "    return mu, var"
   ]
  },
  {
   "cell_type": "markdown",
   "id": "4fa0527e",
   "metadata": {},
   "source": [
    "Estimates Gaussian parameters (mean and variance) for each feature."
   ]
  },
  {
   "cell_type": "code",
   "execution_count": null,
   "id": "597e518a",
   "metadata": {},
   "outputs": [],
   "source": [
    "# Estimate mean and variance of each feature\n",
    "mu, var = estimate_gaussian(X_train)              \n",
    "\n",
    "    \n",
    "estimate_gaussian_test(estimate_gaussian)"
   ]
  },
  {
   "cell_type": "markdown",
   "id": "1de3b4d6",
   "metadata": {},
   "source": [
    "Estimates Gaussian parameters (mean and variance) for each feature."
   ]
  },
  {
   "cell_type": "code",
   "execution_count": null,
   "id": "6d78cad2",
   "metadata": {},
   "outputs": [],
   "source": [
    "# Returns the density of the multivariate normal\n",
    "# at each data point (row) of X_train\n",
    "p = multivariate_gaussian(X_train, mu, var)\n",
    "\n",
    "#Plotting code \n",
    "visualize_fit(X_train, mu, var)"
   ]
  },
  {
   "cell_type": "markdown",
   "id": "9fc42d42",
   "metadata": {},
   "source": [
    "Selects the anomaly threshold using a validation set to maximize F1."
   ]
  },
  {
   "cell_type": "code",
   "execution_count": null,
   "id": "b0f916be",
   "metadata": {},
   "outputs": [],
   "source": [
    "# select_threshold\n",
    "\n",
    "def select_threshold(y_val, p_val): \n",
    "    \"\"\"\n",
    "    Finds the best threshold to use for selecting outliers \n",
    "    based on the results from a validation set (p_val) \n",
    "    and the ground truth (y_val)\n",
    "    \n",
    "    Args:\n",
    "        y_val (ndarray): Ground truth on validation set\n",
    "        p_val (ndarray): Results on validation set\n",
    "        \n",
    "    Returns:\n",
    "        epsilon (float): Threshold chosen \n",
    "        F1 (float):      F1 score by choosing epsilon as threshold\n",
    "    \"\"\" \n",
    "\n",
    "    best_epsilon = 0\n",
    "    best_F1 = 0\n",
    "    F1 = 0\n",
    "    \n",
    "    step_size = (max(p_val) - min(p_val)) / 1000\n",
    "    for epsilon in np.arange(min(p_val), max(p_val), step_size):\n",
    "    \n",
    "        tp = 0\n",
    "        fp = 0\n",
    "        fn = 0\n",
    "            anomoly = 0\n",
    "                anomoly += 1\n",
    "                tp += 1\n",
    "                fp += 1\n",
    "                fn += 1\n",
    "        if tp == 0:\n",
    "            F1 = 0\n",
    "        else:\n",
    "            prec = tp/(tp+fp)\n",
    "            rec = tp/(tp+fn)\n",
    "        \n",
    "            F1 = (2*prec*rec)/(prec+rec)     \n",
    "        \n",
    "        \n",
    "        \n",
    "        if F1 > best_F1:\n",
    "            best_F1 = F1\n",
    "            best_epsilon = epsilon\n",
    "        \n",
    "    return best_epsilon, best_F1"
   ]
  },
  {
   "cell_type": "markdown",
   "id": "76656603",
   "metadata": {},
   "source": [
    "Estimates Gaussian parameters (mean and variance) for each feature."
   ]
  },
  {
   "cell_type": "code",
   "execution_count": null,
   "id": "6f506399",
   "metadata": {},
   "outputs": [],
   "source": [
    "p_val = multivariate_gaussian(X_val, mu, var)\n",
    "epsilon, F1 = select_threshold(y_val, p_val)\n",
    "\n",
    "    \n",
    "# UNIT TEST\n",
    "select_threshold_test(select_threshold)"
   ]
  },
  {
   "cell_type": "markdown",
   "id": "a12a0263",
   "metadata": {},
   "source": [
    "Estimates Gaussian parameters (mean and variance) for each feature."
   ]
  },
  {
   "cell_type": "code",
   "execution_count": null,
   "id": "2a425de2",
   "metadata": {},
   "outputs": [],
   "source": [
    "# Find the outliers in the training set \n",
    "outliers = p < epsilon\n",
    "\n",
    "# Visualize the fit\n",
    "visualize_fit(X_train, mu, var)\n",
    "\n",
    "# Draw a red circle around those outliers\n",
    "plt.plot(X_train[outliers, 0], X_train[outliers, 1], 'ro',\n",
    "         markersize= 10,markerfacecolor='none', markeredgewidth=2)"
   ]
  },
  {
   "cell_type": "markdown",
   "id": "72515a9c",
   "metadata": {},
   "source": [
    "Loads dataset for anomaly detection."
   ]
  },
  {
   "cell_type": "code",
   "execution_count": null,
   "id": "dcbe19fd",
   "metadata": {},
   "outputs": [],
   "source": [
    "# load the dataset\n",
    "X_train_high, X_val_high, y_val_high = load_data_multi()"
   ]
  },
  {
   "cell_type": "markdown",
   "id": "c412f86f",
   "metadata": {},
   "source": [
    "Estimates Gaussian parameters (mean and variance) for each feature."
   ]
  },
  {
   "cell_type": "code",
   "execution_count": null,
   "id": "59b070e0",
   "metadata": {},
   "outputs": [],
   "source": [
    "# Apply the same steps to the larger dataset\n",
    "\n",
    "# Estimate the Gaussian parameters\n",
    "mu_high, var_high = estimate_gaussian(X_train_high)\n",
    "\n",
    "# Evaluate the probabilites for the training set\n",
    "p_high = multivariate_gaussian(X_train_high, mu_high, var_high)\n",
    "\n",
    "# Evaluate the probabilites for the cross validation set\n",
    "p_val_high = multivariate_gaussian(X_val_high, mu_high, var_high)\n",
    "\n",
    "# Find the best threshold\n",
    "epsilon_high, F1_high = select_threshold(y_val_high, p_val_high)"
   ]
  }
 ],
 "metadata": {
  "kernelspec": {
   "display_name": "Python 3",
   "language": "python",
   "name": "python3"
  },
  "language_info": {
   "name": "python",
   "version": "3.x"
  }
 },
 "nbformat": 4,
 "nbformat_minor": 5
}
